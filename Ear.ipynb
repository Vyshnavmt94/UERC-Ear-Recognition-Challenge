{
 "cells": [
  {
   "cell_type": "code",
   "execution_count": 2,
   "metadata": {},
   "outputs": [],
   "source": [
    "import os,shutil\n",
    "import cv2,keras\n",
    "import numpy as np\n",
    "from imgaug import augmenters as iaa\n",
    "import skimage.io as io\n",
    "from sklearn.model_selection import train_test_split\n",
    "from tensorflow.python.keras.applications import ResNet50\n",
    "from keras.optimizers import Adam"
   ]
  },
  {
   "cell_type": "code",
   "execution_count": 3,
   "metadata": {},
   "outputs": [],
   "source": [
    "def create_dataset(path,num_classes,data_splitno):\n",
    "    data_split=[]\n",
    "    subjects = os.listdir(path) # getting each subject folders (no. of classes=166)\n",
    "    for subject in subjects[:num_classes]:     ## selcting only 150 classes\n",
    "        os.makedirs(os.path.join('Data/train',subject))  ## creating new folder for train and test with 60/40 split from each subjects\n",
    "        os.makedirs(os.path.join('Data/test',subject))\n",
    "        subject_images = os.listdir(os.path.join(path,subject))\n",
    "        for image in subject_images:\n",
    "            if(image.endswith('.png')):\n",
    "                data_split.append(image)\n",
    "                train_no = int(data_splitno*len(data_split))\n",
    "        for i in range(0,len(data_split)):\n",
    "        \n",
    "            if(i<=train_no-1):\n",
    "                source_train=os.path.join(path,subject,data_split[i])\n",
    "                destination_train=os.path.join('Data/train',subject)\n",
    "                shutil.copy(source_train,destination_train)\n",
    "        \n",
    "            else:\n",
    "                source_test=os.path.join(path,subject,data_split[i])\n",
    "                destination_test=os.path.join('Data/test',subject)\n",
    "                shutil.copy(source_test,destination_test)\n",
    "                \n",
    "        data_split=[] "
   ]
  },
  {
   "cell_type": "code",
   "execution_count": 4,
   "metadata": {},
   "outputs": [],
   "source": [
    "def data_augmentation(image,path):\n",
    "    flip =iaa.Sequential([iaa.Fliplr(0.5)]).augment_images(image)\n",
    "    io.imsave(path+'flip.png',flip)\n",
    "    \n",
    "    crop = iaa.Sequential([iaa.Crop(percent=(0,0.01))]).augment_images(image)\n",
    "    io.imsave(path+'crop.png',crop)\n",
    "    \n",
    "    GB = iaa.Sequential([iaa.GaussianBlur(sigma=(0,3.0))]).augment_images(image)\n",
    "    io.imsave(path+'GB.png',GB)\n",
    "    \n",
    "    GN = iaa.Sequential([iaa.AdditiveGaussianNoise(scale=(0.0,0.2))]).augment_images(image)\n",
    "    io.imsave(path+'GN.png',GN)\n",
    "    \n",
    "    CN = iaa.Sequential([iaa.ContrastNormalization(0.5,per_channel=0.5)]).augment_images(image)\n",
    "    io.imsave(path+'CN.png',CN)\n",
    "    \n",
    "    BR = iaa.Sequential([iaa.Multiply((0.8,1.2))]).augment_images(image)\n",
    "    io.imsave(path+'BR.png',BR)\n",
    "    \n",
    "    scale= iaa.Sequential([iaa.Affine(scale={\"x\": (0.8, 1.2), \"y\": (0.8,1.2)})]).augment_images(image)\n",
    "    io.imsave(path+'scale.png',scale)\n",
    "    \n",
    "    rotate = iaa.Sequential([iaa.Affine(rotate=(-45,45))]).augment_images(image)\n",
    "    io.imsave(path+'rotate.png',rotate)\n",
    "    "
   ]
  },
  {
   "cell_type": "code",
   "execution_count": 5,
   "metadata": {},
   "outputs": [],
   "source": [
    "def get_augmented_data(path):\n",
    "    subjects = os.listdir(path)\n",
    "    for subject in subjects:\n",
    "        subject_path=os.path.join(path,subject)\n",
    "        subject_images = os.listdir(subject_path)\n",
    "        for image in subject_images:\n",
    "            if(image.endswith('.png')):\n",
    "                image_path=os.path.join(path,subject,image)\n",
    "                image = cv2.resize(cv2.imread(image_path),(100,100))\n",
    "                im_path=os.path.join(os.path.splitext(image_path)[0])\n",
    "                data_augmentation(image,im_path)"
   ]
  },
  {
   "cell_type": "code",
   "execution_count": null,
   "metadata": {},
   "outputs": [],
   "source": [
    "def data(path):\n",
    "    images=[]\n",
    "    label=[]\n",
    "    subjects = os.listdir(path)\n",
    "    for subject in subjects:\n",
    "        subject_path=os.path.join(path,subject)\n",
    "        subject_images = os.listdir(subject_path)\n",
    "        for image in subject_images:\n",
    "            if(image.endswith('.png')):\n",
    "                image_path=os.path.join(path,subject,image)\n",
    "                image = cv2.resize(cv2.imread(image_path),(224,224))\n",
    "                images.append(image)\n",
    "                label.append(subject)\n",
    "    \n",
    "    images=np.array(images)\n",
    "    label=np.array(label)\n",
    "    return images,label"
   ]
  },
  {
   "cell_type": "code",
   "execution_count": 6,
   "metadata": {},
   "outputs": [
    {
     "name": "stderr",
     "output_type": "stream",
     "text": [
      "C:\\Users\\Vyshnav\\Anaconda3\\lib\\site-packages\\imgaug\\augmenters\\meta.py:464: UserWarning: You provided a numpy array of shape (100, 100, 3) as input to augment_images(), which was interpreted as (N, H, W). The last dimension however has value 1 or 3, which indicates that you provided a single image with shape (H, W, C) instead. If that is the case, you should use augment_image(image) or augment_images([image]), otherwise you will not get the expected augmentations.\n",
      "  \"you will not get the expected augmentations.\" % (images_copy.shape,))\n",
      "C:\\Users\\Vyshnav\\Anaconda3\\lib\\site-packages\\skimage\\io\\_io.py:140: UserWarning: Data/train\\015\\03CN.png is a low contrast image\n",
      "  warn('%s is a low contrast image' % fname)\n",
      "C:\\Users\\Vyshnav\\Anaconda3\\lib\\site-packages\\skimage\\io\\_io.py:140: UserWarning: Data/train\\041\\04CN.png is a low contrast image\n",
      "  warn('%s is a low contrast image' % fname)\n",
      "C:\\Users\\Vyshnav\\Anaconda3\\lib\\site-packages\\skimage\\io\\_io.py:140: UserWarning: Data/train\\041\\04rotate.png is a low contrast image\n",
      "  warn('%s is a low contrast image' % fname)\n",
      "C:\\Users\\Vyshnav\\Anaconda3\\lib\\site-packages\\skimage\\io\\_io.py:140: UserWarning: Data/train\\062\\03CN.png is a low contrast image\n",
      "  warn('%s is a low contrast image' % fname)\n",
      "C:\\Users\\Vyshnav\\Anaconda3\\lib\\site-packages\\skimage\\io\\_io.py:140: UserWarning: Data/train\\146\\02CN.png is a low contrast image\n",
      "  warn('%s is a low contrast image' % fname)\n",
      "C:\\Users\\Vyshnav\\Anaconda3\\lib\\site-packages\\skimage\\io\\_io.py:140: UserWarning: Data/test\\106\\09CN.png is a low contrast image\n",
      "  warn('%s is a low contrast image' % fname)\n"
     ]
    },
    {
     "ename": "NameError",
     "evalue": "name 'data' is not defined",
     "output_type": "error",
     "traceback": [
      "\u001b[1;31m---------------------------------------------------------------------------\u001b[0m",
      "\u001b[1;31mNameError\u001b[0m                                 Traceback (most recent call last)",
      "\u001b[1;32m<ipython-input-6-50ca0bed2066>\u001b[0m in \u001b[0;36m<module>\u001b[1;34m\u001b[0m\n\u001b[0;32m     12\u001b[0m \u001b[1;33m\u001b[0m\u001b[0m\n\u001b[0;32m     13\u001b[0m \u001b[1;31m#Getting train and test data(80/20)\u001b[0m\u001b[1;33m\u001b[0m\u001b[1;33m\u001b[0m\u001b[1;33m\u001b[0m\u001b[0m\n\u001b[1;32m---> 14\u001b[1;33m \u001b[0mtrain_images\u001b[0m\u001b[1;33m,\u001b[0m\u001b[0mtrain_label\u001b[0m\u001b[1;33m=\u001b[0m \u001b[0mdata\u001b[0m\u001b[1;33m(\u001b[0m\u001b[0mtrain_path\u001b[0m\u001b[1;33m)\u001b[0m\u001b[1;33m\u001b[0m\u001b[1;33m\u001b[0m\u001b[0m\n\u001b[0m\u001b[0;32m     15\u001b[0m \u001b[0mtest_images\u001b[0m\u001b[1;33m,\u001b[0m\u001b[0mtest_label\u001b[0m\u001b[1;33m=\u001b[0m \u001b[0mdata\u001b[0m\u001b[1;33m(\u001b[0m\u001b[0mtest_path\u001b[0m\u001b[1;33m)\u001b[0m\u001b[1;33m\u001b[0m\u001b[1;33m\u001b[0m\u001b[0m\n\u001b[0;32m     16\u001b[0m \u001b[0mx_train\u001b[0m\u001b[1;33m,\u001b[0m\u001b[0mx_valid\u001b[0m\u001b[1;33m,\u001b[0m\u001b[0my_train\u001b[0m\u001b[1;33m,\u001b[0m\u001b[0my_valid\u001b[0m\u001b[1;33m=\u001b[0m\u001b[0mtrain_test_split\u001b[0m\u001b[1;33m(\u001b[0m\u001b[0mtrain_images\u001b[0m\u001b[1;33m,\u001b[0m\u001b[0mtrain_label\u001b[0m\u001b[1;33m,\u001b[0m\u001b[0mtest_size\u001b[0m\u001b[1;33m=\u001b[0m\u001b[1;36m0.2\u001b[0m\u001b[1;33m,\u001b[0m\u001b[0mrandom_state\u001b[0m\u001b[1;33m=\u001b[0m\u001b[1;36m42\u001b[0m\u001b[1;33m)\u001b[0m\u001b[1;33m\u001b[0m\u001b[1;33m\u001b[0m\u001b[0m\n",
      "\u001b[1;31mNameError\u001b[0m: name 'data' is not defined"
     ]
    }
   ],
   "source": [
    "path = 'Dataset/Train Dataset'\n",
    "#train = 'Train Dataset'\n",
    "num_classes=150\n",
    "data_splitno=0.6\n",
    "create_dataset(path,num_classes,data_splitno)\n",
    "\n",
    "# Data Augmentation\n",
    "train_path = 'Data/train'\n",
    "test_path = 'Data/test'\n",
    "get_augmented_data(train_path)\n",
    "get_augmented_data(test_path)\n",
    "\n",
    "#Getting train and test data(80/20)\n",
    "train_images,train_label= data(train_path)\n",
    "test_images,test_label= data(test_path)\n",
    "x_train,x_valid,y_train,y_valid=train_test_split(train_images,train_label,test_size=0.2,random_state=42)\n",
    "x_test=test_images\n",
    "y_test=test_label\n",
    "\n",
    "# convert class vectors to binary class matrices\n",
    "y_train=keras.utils.to_categorical(y_train,1000)\n",
    "y_valid= keras.utils.to_categorical(y_valid,1000)\n",
    "y_test= keras.utils.to_categorical(y_test,1000)\n",
    "print('x_train=',x_train.shape)\n",
    "print('y_train=',y_train.shape)\n",
    "print('x_test=',x_test.shape)\n",
    "print('y_test=',y_test.shape)"
   ]
  },
  {
   "cell_type": "code",
   "execution_count": null,
   "metadata": {},
   "outputs": [],
   "source": [
    "model = ResNet50(include_top=True, weights=None, input_tensor=None, input_shape=x_train[0].shape, \n",
    "                 pooling=None, classes=1000)\n",
    "model.summary()"
   ]
  },
  {
   "cell_type": "code",
   "execution_count": null,
   "metadata": {},
   "outputs": [],
   "source": [
    "model.compile(loss='categorical_crossentropy',optimizer=Adam(),metrics=['accuracy'])\n",
    "model.fit(x_train, y_train,batch_size=70,epochs=1,verbose=1,validation_data=(x_valid, y_valid))\n"
   ]
  },
  {
   "cell_type": "code",
   "execution_count": null,
   "metadata": {},
   "outputs": [],
   "source": [
    "score = model.evaluate(x_test, y_test, verbose=0)\n",
    "print('Test loss:', score[0])\n",
    "print('Test accuracy:', score[1])"
   ]
  },
  {
   "cell_type": "code",
   "execution_count": 17,
   "metadata": {},
   "outputs": [],
   "source": [
    "# ##Dataset creation\n",
    "# subjects = os.listdir(os.path.join(path,train)) # getting each subject folders (no. of classes=166)\n",
    "# for subject in subjects[:num_classes]:     ## selcting only 150 classes\n",
    "#     os.makedirs(os.path.join('Data/train',subject))  ## creating new folder for train and test with 60/40 split from each subjects\n",
    "#     os.makedirs(os.path.join('Data/test',subject))\n",
    "#     subject_images = os.listdir(os.path.join(path,train,subject))\n",
    "#     for image in subject_images:\n",
    "#         if(image.endswith('.png')):\n",
    "#             data_split.append(image)\n",
    "#             train_no = int(data_splitno*len(data_split))\n",
    "#     for i in range(0,len(data_split)):\n",
    "        \n",
    "#         if(i<=train_no-1):\n",
    "#             source_train=os.path.join(path,train,subject,data_split[i])\n",
    "#             destination_train=os.path.join('Data/train',subject)\n",
    "#             shutil.copy(source_train,destination_train)\n",
    "        \n",
    "#         else:\n",
    "#             source_test=os.path.join(path,train,subject,data_split[i])\n",
    "#             destination_test=os.path.join('Data/test',subject)\n",
    "#             shutil.copy(source_test,destination_test)\n",
    "     \n",
    "#     data_split=[]  "
   ]
  },
  {
   "cell_type": "code",
   "execution_count": 21,
   "metadata": {
    "scrolled": true
   },
   "outputs": [],
   "source": [
    "# def data_augmentation(image,path):\n",
    "#     flip =iaa.Sequential([iaa.Fliplr(0.5)]).augment_images(image)\n",
    "#     io.imsave(path+'flip.png',flip)\n",
    "    \n",
    "#     crop = iaa.Sequential([iaa.Crop(percent=(0,0.01))]).augment_images(image)\n",
    "#     io.imsave(path+'crop.png',crop)\n",
    "    \n",
    "#     GB = iaa.Sequential([iaa.GaussianBlur(sigma=(0,3.0))]).augment_images(image)\n",
    "#     io.imsave(path+'GB.png',GB)\n",
    "    \n",
    "#     GN = iaa.Sequential([iaa.AdditiveGaussianNoise(scale=(0.0,0.2))]).augment_images(image)\n",
    "#     io.imsave(path+'GN.png',GN)\n",
    "    \n",
    "#     CN = iaa.Sequential([iaa.ContrastNormalization(0.5,per_channel=0.5)]).augment_images(image)\n",
    "#     io.imsave(path+'CN.png',CN)\n",
    "    \n",
    "#     BR = iaa.Sequential([iaa.Multiply((0.8,1.2))]).augment_images(image)\n",
    "#     io.imsave(path+'BR.png',BR)\n",
    "    \n",
    "#     scale= iaa.Sequential([iaa.Affine(scale={\"x\": (0.8, 1.2), \"y\": (0.8,1.2)})]).augment_images(image)\n",
    "#     io.imsave(path+'scale.png',scale)\n",
    "    \n",
    "#     rotate = iaa.Sequential([iaa.Affine(rotate=(-45,45))]).augment_images(image)\n",
    "#     io.imsave(path+'rotate.png',rotate)\n",
    "    "
   ]
  }
 ],
 "metadata": {
  "kernelspec": {
   "display_name": "Python 3",
   "language": "python",
   "name": "python3"
  },
  "language_info": {
   "codemirror_mode": {
    "name": "ipython",
    "version": 3
   },
   "file_extension": ".py",
   "mimetype": "text/x-python",
   "name": "python",
   "nbconvert_exporter": "python",
   "pygments_lexer": "ipython3",
   "version": "3.6.7"
  }
 },
 "nbformat": 4,
 "nbformat_minor": 2
}
